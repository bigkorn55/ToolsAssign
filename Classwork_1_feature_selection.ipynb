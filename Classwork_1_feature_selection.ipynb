{
  "nbformat": 4,
  "nbformat_minor": 0,
  "metadata": {
    "colab": {
      "provenance": [],
      "include_colab_link": true
    },
    "kernelspec": {
      "name": "python3",
      "display_name": "Python 3"
    },
    "language_info": {
      "name": "python"
    }
  },
  "cells": [
    {
      "cell_type": "markdown",
      "metadata": {
        "id": "view-in-github",
        "colab_type": "text"
      },
      "source": [
        "<a href=\"https://colab.research.google.com/github/bigkorn55/ToolsAssign/blob/main/Classwork_1_feature_selection.ipynb\" target=\"_parent\"><img src=\"https://colab.research.google.com/assets/colab-badge.svg\" alt=\"Open In Colab\"/></a>"
      ]
    },
    {
      "cell_type": "markdown",
      "source": [
        "**Classwork 1**\n",
        "\n",
        "Using dataset provide:\n",
        "\n",
        "Perform\n",
        "\n",
        "1. Stat feature selection\n",
        "\n",
        "2. RFE\n",
        "\n",
        "3. Permutation feature important\n",
        "\n",
        "Comparison in model developing by using all features vs (1) vs (2) vs (3)\n",
        "\n",
        "Please submit resolve in notebook with result variables:\n",
        "\n",
        "o Number of features\n",
        "\n",
        "o Selected features\n",
        "\n",
        "o Feature Ranking\n",
        "\n",
        "o Model result"
      ],
      "metadata": {
        "id": "Id8ko1qESu9o"
      }
    },
    {
      "cell_type": "markdown",
      "source": [
        "# 1.Stat feature selection"
      ],
      "metadata": {
        "id": "F3ATUZ4YUIuP"
      }
    },
    {
      "cell_type": "code",
      "source": [
        "import pandas as pd\n",
        "from sklearn.feature_selection import SelectKBest\n",
        "from sklearn.feature_selection import f_classif\n",
        "from matplotlib import pyplot\n",
        "\n",
        "df = pd.read_excel('/content/pima-indians-diabetes.xlsx')\n",
        "\n",
        "# ให้แน่ใจว่า 'Class_variable' มีอยู่ใน DataFrame\n",
        "target_column = 'Class variable (0 or 1)'\n",
        "if target_column not in df.columns:\n",
        "    raise ValueError(f\"Column '{target_column}' not found in DataFrame.\")\n",
        "\n",
        "# เลือก features จาก DataFrame\n",
        "X = df.drop(target_column, axis=1)\n",
        "y = df[target_column]\n",
        "\n",
        "# เลือก feature ด้วย SelectKBest\n",
        "feature_selection = SelectKBest(score_func=f_classif, k=4)\n",
        "X_selected = feature_selection.fit_transform(X, y)\n",
        "\n",
        "# Create DataFrame for Summary with actual column names\n",
        "df_results = pd.DataFrame({\n",
        "    \"Feature_name\": X.columns,\n",
        "    \"F-statistic\": feature_selection.scores_})\n",
        "df_results[\"Feature_Ranking\"] = df_results[\"F-statistic\"].rank(ascending=False).astype(int)\n",
        "df_results[\"Select_Feature\"] = df_results[\"Feature_Ranking\"] <= X_selected.shape[1]\n",
        "print(df_results)\n",
        "\n",
        "# Plot the feature importance\n",
        "pyplot.bar([x for x in range(len(feature_selection.scores_))], feature_selection.scores_)\n",
        "pyplot.show()\n"
      ],
      "metadata": {
        "colab": {
          "base_uri": "https://localhost:8080/",
          "height": 760
        },
        "id": "ROgVhPoG9EiZ",
        "outputId": "9f933111-3951-414b-c0b2-e6a52d79161d"
      },
      "execution_count": null,
      "outputs": [
        {
          "output_type": "stream",
          "name": "stdout",
          "text": [
            "                                        Feature_name  F-statistic  \\\n",
            "0                           Number of times pregnant    39.670227   \n",
            "1  Plasma glucose concentration a 2 hours in an o...   213.161752   \n",
            "2                   Diastolic blood pressure (mm Hg)     3.256950   \n",
            "3                   Triceps skin fold thickness (mm)     4.304381   \n",
            "4                     2-Hour serum insulin (mu U/ml)    13.281108   \n",
            "5     Body mass index (weight in kg/(height in m)^2)    71.772072   \n",
            "6                         Diabetes pedigree function    23.871300   \n",
            "7                                        Age (years)    46.140611   \n",
            "\n",
            "   Feature_Ranking  Select_Feature  \n",
            "0                4            True  \n",
            "1                1            True  \n",
            "2                8           False  \n",
            "3                7           False  \n",
            "4                6           False  \n",
            "5                2            True  \n",
            "6                5           False  \n",
            "7                3            True  \n"
          ]
        },
        {
          "output_type": "display_data",
          "data": {
            "text/plain": [
              "<Figure size 640x480 with 1 Axes>"
            ],
            "image/png": "[encoded data removed]"
          },
          "metadata": {}
        }
      ]
    },
    {
      "cell_type": "markdown",
      "source": [
        "# 2.RFE"
      ],
      "metadata": {
        "id": "JepI2y5-N6I9"
      }
    },
    {
      "cell_type": "code",
      "source": [
        "import numpy as np\n",
        "import pandas as pd\n",
        "from sklearn.model_selection import cross_val_score\n",
        "from sklearn.model_selection import RepeatedStratifiedKFold\n",
        "from sklearn.feature_selection import RFE\n",
        "from sklearn.tree import DecisionTreeClassifier\n",
        "from sklearn.pipeline import Pipeline\n",
        "import matplotlib.pyplot as plt\n",
        "\n",
        "\n",
        "# โหลดข้อมูล\n",
        "df = pd.read_excel('/content/pima-indians-diabetes.xlsx')\n",
        "\n",
        "# แยกตัวแปรต้น (features) และตัวแปรตาม (target)\n",
        "X = df.drop('Class variable (0 or 1)', axis=1)\n",
        "y = df['Class variable (0 or 1)']\n",
        "\n",
        "# สร้างโมเดลที่ใช้ RFE\n",
        "def get_models():\n",
        "    models = dict()\n",
        "    for i in range(2, len(X.columns) + 1):\n",
        "        rfe = RFE(estimator=DecisionTreeClassifier(), n_features_to_select=i)\n",
        "        model = DecisionTreeClassifier()\n",
        "        models[str(i)] = Pipeline(steps=[('s', rfe), ('m', model)])\n",
        "    return models\n",
        "\n",
        "# ประเมินโมเดล\n",
        "def evaluate_model(model, X, y):\n",
        "    cv = RepeatedStratifiedKFold(n_splits=10, n_repeats=3, random_state=1)\n",
        "    scores = cross_val_score(model, X, y, scoring='accuracy', cv=cv, n_jobs=-1, error_score='raise')\n",
        "    return scores\n",
        "\n",
        "models = get_models()\n",
        "results, names = list(), list()\n",
        "\n",
        "for name, model in models.items():\n",
        "    scores = evaluate_model(model, X, y)\n",
        "    results.append(scores)\n",
        "    names.append(name)\n",
        "    print('>%s %.3f (%.3f)' % (name, np.mean(scores), np.std(scores)))\n",
        "\n",
        "# พล็อตผลลัพธ์\n",
        "plt.boxplot(results, labels=names, showmeans=True)\n",
        "plt.show()\n"
      ],
      "metadata": {
        "colab": {
          "base_uri": "https://localhost:8080/",
          "height": 551
        },
        "id": "-fmrGWrLMcrY",
        "outputId": "23861f5e-7219-4644-e194-a8741264b5ce"
      },
      "execution_count": null,
      "outputs": [
        {
          "output_type": "stream",
          "name": "stdout",
          "text": [
            ">2 0.674 (0.049)\n",
            ">3 0.678 (0.062)\n",
            ">4 0.694 (0.056)\n",
            ">5 0.701 (0.053)\n",
            ">6 0.700 (0.056)\n",
            ">7 0.691 (0.054)\n",
            ">8 0.694 (0.054)\n"
          ]
        },
        {
          "output_type": "display_data",
          "data": {
            "text/plain": [
              "<Figure size 640x480 with 1 Axes>"
            ],
            "image/png": "[encoded data removed]"
          },
          "metadata": {}
        }
      ]
    },
    {
      "cell_type": "markdown",
      "source": [
        "Number of features = 5"
      ],
      "metadata": {
        "id": "xPv0W1eRTGbL"
      }
    },
    {
      "cell_type": "code",
      "source": [
        "# เลือกจำนวนคุณสมบัติที่ต้องการ\n",
        "selected_num_features = 5\n",
        "\n",
        "# ดำเนินการตามตัวอย่างโค้ด\n",
        "models = get_models()\n",
        "selected_features = []\n",
        "\n",
        "for name, model in models.items():\n",
        "    # ทำ RFE\n",
        "    rfe = model.named_steps['s']\n",
        "    rfe.fit(X, y)\n",
        "\n",
        "    # เลือกคุณสมบัติตามจำนวนที่ต้องการ\n",
        "    selected_features.append(X.columns[rfe.support_].tolist())\n",
        "\n",
        "# เลือกคุณสมบัติจากรอบที่มีค่า accuracy ที่สูงที่สุด\n",
        "selected_features_for_top_accuracy = selected_features[np.argmax(np.mean(model_results, axis=1))]\n",
        "\n",
        "# แสดงคุณสมบัติที่ถูกเลือก\n",
        "print(\"Selected features based on the highest accuracy:\")\n",
        "print(selected_features_for_top_accuracy[:selected_num_features])\n"
      ],
      "metadata": {
        "colab": {
          "base_uri": "https://localhost:8080/"
        },
        "id": "uRUvwUAQP3xN",
        "outputId": "ef750cf7-7667-4a05-b074-a0c5c713e21f"
      },
      "execution_count": null,
      "outputs": [
        {
          "output_type": "stream",
          "name": "stdout",
          "text": [
            "Selected features based on the highest accuracy:\n",
            "['Number of times pregnant', 'Plasma glucose concentration a 2 hours in an oral glucose tolerance test', 'Diastolic blood pressure (mm Hg)', 'Body mass index (weight in kg/(height in m)^2)', 'Diabetes pedigree function']\n"
          ]
        }
      ]
    },
    {
      "cell_type": "markdown",
      "source": [
        "Selected features\n",
        "- Number of times pregnant\n",
        "- Plasma glucose concentration a 2 hours in an oral glucose tolerance test\n",
        "- Diastolic blood pressure (mm Hg)\n",
        "- Body mass index (weight in kg/(height in m)^2)\n",
        "- Diabetes pedigree function"
      ],
      "metadata": {
        "id": "eQwUMeHaTVKx"
      }
    },
    {
      "cell_type": "code",
      "source": [
        "# หาค่า accuracy ที่สูงที่สุด\n",
        "index_of_top_accuracy = np.argmax(np.mean(model_results, axis=1))\n",
        "\n",
        "# แสดง Feature Ranking ของคุณสมบัติที่ถูกเลือกจาก RFE\n",
        "print(\"Feature Ranking based on the highest accuracy:\")\n",
        "print(feature_ranking[index_of_top_accuracy])\n"
      ],
      "metadata": {
        "colab": {
          "base_uri": "https://localhost:8080/"
        },
        "id": "awF47RmORKEe",
        "outputId": "940fbe9b-f772-4fe6-cd46-05649f85e655"
      },
      "execution_count": null,
      "outputs": [
        {
          "output_type": "stream",
          "name": "stdout",
          "text": [
            "Feature Ranking based on the highest accuracy:\n",
            "[1 1 1 3 2 1 1 1]\n"
          ]
        }
      ]
    },
    {
      "cell_type": "code",
      "source": [
        "# แสดง Model Result ที่ได้จาก cross-validation\n",
        "for i, (name, model) in enumerate(models.items()):\n",
        "    print(f\"{name}: Mean Accuracy = {np.mean(results[i]):.3f}, Standard Deviation = {np.std(results[i]):.3f}\")\n"
      ],
      "metadata": {
        "colab": {
          "base_uri": "https://localhost:8080/"
        },
        "id": "lMr7dDFzR_P6",
        "outputId": "a50a2890-13fe-4666-bfc1-3d673443201e"
      },
      "execution_count": null,
      "outputs": [
        {
          "output_type": "stream",
          "name": "stdout",
          "text": [
            "2: Mean Accuracy = 0.674, Standard Deviation = 0.049\n",
            "3: Mean Accuracy = 0.678, Standard Deviation = 0.062\n",
            "4: Mean Accuracy = 0.694, Standard Deviation = 0.056\n",
            "5: Mean Accuracy = 0.701, Standard Deviation = 0.053\n",
            "6: Mean Accuracy = 0.700, Standard Deviation = 0.056\n",
            "7: Mean Accuracy = 0.691, Standard Deviation = 0.054\n",
            "8: Mean Accuracy = 0.694, Standard Deviation = 0.054\n"
          ]
        }
      ]
    },
    {
      "cell_type": "markdown",
      "source": [
        "# 3.Permutation feature important"
      ],
      "metadata": {
        "id": "T0sCqCR38e1c"
      }
    },
    {
      "cell_type": "code",
      "source": [
        "import pandas as pd\n",
        "from sklearn.tree import DecisionTreeRegressor\n",
        "from matplotlib import pyplot\n",
        "\n",
        "df = pd.read_excel('/content/pima-indians-diabetes.xlsx')\n",
        "\n",
        "# แยกตัวแปรต้น (features) และตัวแปรตาม (target)\n",
        "X = df.drop('Class variable (0 or 1)', axis=1)\n",
        "y = df['Class variable (0 or 1)']\n",
        "\n",
        "# สร้างโมเดล DecisionTreeRegressor\n",
        "model = DecisionTreeRegressor()\n",
        "model.fit(X, y)\n",
        "\n",
        "# ดึงค่าความสำคัญของ feature\n",
        "feature_importance = model.feature_importances_\n",
        "\n",
        "# สร้าง DataFrame สำหรับ Summary\n",
        "df_results = pd.DataFrame({\n",
        "    \"Feature_name\": X.columns,\n",
        "    \"Score\": feature_importance})\n",
        "df_results[\"Feature_Ranking\"] = df_results[\"Score\"].rank(ascending=False).astype(int)\n",
        "df_results[\"Select_Feature\"] = df_results[\"Feature_Ranking\"] <= 4\n",
        "print(df_results)\n",
        "\n",
        "# พล็อตกราฟ\n",
        "pyplot.bar([x for x in range(len(feature_importance))], feature_importance)\n",
        "pyplot.show()\n"
      ],
      "metadata": {
        "colab": {
          "base_uri": "https://localhost:8080/",
          "height": 760
        },
        "id": "6jVtorBt8r9J",
        "outputId": "b7957224-1567-42a0-8d02-06ce70e8189f"
      },
      "execution_count": null,
      "outputs": [
        {
          "output_type": "stream",
          "name": "stdout",
          "text": [
            "                                        Feature_name     Score  \\\n",
            "0                           Number of times pregnant  0.054916   \n",
            "1  Plasma glucose concentration a 2 hours in an o...  0.312548   \n",
            "2                   Diastolic blood pressure (mm Hg)  0.100436   \n",
            "3                   Triceps skin fold thickness (mm)  0.019463   \n",
            "4                     2-Hour serum insulin (mu U/ml)  0.035163   \n",
            "5     Body mass index (weight in kg/(height in m)^2)  0.232825   \n",
            "6                         Diabetes pedigree function  0.127436   \n",
            "7                                        Age (years)  0.117213   \n",
            "\n",
            "   Feature_Ranking  Select_Feature  \n",
            "0                6           False  \n",
            "1                1            True  \n",
            "2                5           False  \n",
            "3                8           False  \n",
            "4                7           False  \n",
            "5                2            True  \n",
            "6                3            True  \n",
            "7                4            True  \n"
          ]
        },
        {
          "output_type": "display_data",
          "data": {
            "text/plain": [
              "<Figure size 640x480 with 1 Axes>"
            ],
            "image/png": "[encoded data removed]"
          },
          "metadata": {}
        }
      ]
    }
  ]
}